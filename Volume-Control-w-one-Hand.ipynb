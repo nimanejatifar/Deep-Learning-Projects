{
 "cells": [
  {
   "cell_type": "code",
   "execution_count": 2,
   "id": "fedb8c30",
   "metadata": {},
   "outputs": [],
   "source": [
    "import numpy as np\n",
    "import cv2 as cv\n",
    "from cvzone.HandTrackingModule import HandDetector"
   ]
  },
  {
   "cell_type": "code",
   "execution_count": null,
   "id": "b2a68d60",
   "metadata": {},
   "outputs": [],
   "source": []
  },
  {
   "cell_type": "code",
   "execution_count": 3,
   "id": "a34ca888",
   "metadata": {},
   "outputs": [],
   "source": [
    "from comtypes import CLSCTX_ALL\n",
    "from pycaw.pycaw import AudioUtilities, IAudioEndpointVolume"
   ]
  },
  {
   "cell_type": "code",
   "execution_count": 4,
   "id": "98e4074d",
   "metadata": {},
   "outputs": [
    {
     "name": "stdout",
     "output_type": "stream",
     "text": [
      "(-65.25, 0.0, 0.03125)\n"
     ]
    }
   ],
   "source": [
    "devices = AudioUtilities.GetSpeakers()\n",
    "interface = devices.Activate(\n",
    "    IAudioEndpointVolume._iid_, CLSCTX_ALL, None)\n",
    "volume = interface.QueryInterface(IAudioEndpointVolume)\n",
    "\n",
    "print(volume.GetVolumeRange())"
   ]
  },
  {
   "cell_type": "code",
   "execution_count": 4,
   "id": "68300d33",
   "metadata": {},
   "outputs": [
    {
     "data": {
      "text/plain": [
       "0"
      ]
     },
     "execution_count": 4,
     "metadata": {},
     "output_type": "execute_result"
    }
   ],
   "source": [
    "volume.SetMasterVolumeLevel(-10.0, None)"
   ]
  },
  {
   "cell_type": "code",
   "execution_count": null,
   "id": "10d7b9ab",
   "metadata": {},
   "outputs": [],
   "source": []
  },
  {
   "cell_type": "code",
   "execution_count": 14,
   "id": "be68a01a",
   "metadata": {},
   "outputs": [],
   "source": [
    "cap = cv.VideoCapture(0)\n",
    "detector = HandDetector(detectionCon = 0.5, maxHands=1)\n",
    "\n",
    "while(True):\n",
    "    rec, frame = cap.read()\n",
    "    hand, frame = detector.findHands(frame)\n",
    "    if hand:\n",
    "        hand1 = hand[0]\n",
    "        landmark_list1 = hand1[\"lmList\"]\n",
    "\n",
    "        length, info, frame = detector.findDistance(landmark_list1[4][:-1], landmark_list1[8][:-1], frame)\n",
    "        \n",
    "        handRange = [40, 220]\n",
    "        \n",
    "        vol = int(np.interp(length, handRange, [volume.GetVolumeRange()[0],0]))\n",
    "        \n",
    "        volume.SetMasterVolumeLevel(vol, None)\n",
    "#         print(f'length: {str(length)}')\n",
    "    cv.imshow('frame', frame)\n",
    "    keyexit = cv.waitKey(5) & 0xFF\n",
    "    if keyexit == 13: # Exit key: enter\n",
    "        break\n",
    "\n",
    "cv.destroyAllWindows()\n",
    "cap.release()"
   ]
  },
  {
   "cell_type": "code",
   "execution_count": null,
   "id": "98b43809",
   "metadata": {},
   "outputs": [],
   "source": []
  }
 ],
 "metadata": {
  "kernelspec": {
   "display_name": "Python 3 (ipykernel)",
   "language": "python",
   "name": "python3"
  },
  "language_info": {
   "codemirror_mode": {
    "name": "ipython",
    "version": 3
   },
   "file_extension": ".py",
   "mimetype": "text/x-python",
   "name": "python",
   "nbconvert_exporter": "python",
   "pygments_lexer": "ipython3",
   "version": "3.9.13"
  }
 },
 "nbformat": 4,
 "nbformat_minor": 5
}
